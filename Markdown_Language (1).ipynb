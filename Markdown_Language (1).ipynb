{
  "nbformat": 4,
  "nbformat_minor": 0,
  "metadata": {
    "colab": {
      "name": "Markdown_Language.ipynb",
      "provenance": [],
      "collapsed_sections": []
    },
    "kernelspec": {
      "name": "python3",
      "display_name": "Python 3"
    },
    "language_info": {
      "name": "python"
    }
  },
  "cells": [
    {
      "cell_type": "code",
      "metadata": {
        "id": "HmgDEAVZ_w8_"
      },
      "source": [
        ""
      ],
      "execution_count": null,
      "outputs": []
    },
    {
      "cell_type": "markdown",
      "metadata": {
        "id": "kYbikjCz_yIx"
      },
      "source": [
        "**Shoegaze** is a genre of music that was discovered in the late 80s and became popular in the 90s.\n",
        "\n",
        "---\n",
        "\n",
        "The genre came to be called *shoegaze* because of the overwhelming amount of pedals while on stage leading to them mostly staring towards their shoes. \n",
        "* The genre generally involved lots of guitar distortion and layered vocals and volume.\n",
        "  * In 1988, ***My Blody Valentine*** released their breakthrough EP and later releases which popularized shoegaze (It is still an extremely niche genre nonetheless)"
      ]
    }
  ]
}