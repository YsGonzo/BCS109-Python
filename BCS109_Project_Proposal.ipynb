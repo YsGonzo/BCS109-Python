{
  "nbformat": 4,
  "nbformat_minor": 0,
  "metadata": {
    "colab": {
      "name": "BCS109 - Project Proposal.ipynb",
      "provenance": [],
      "collapsed_sections": []
    },
    "kernelspec": {
      "name": "python3",
      "display_name": "Python 3"
    },
    "language_info": {
      "name": "python"
    }
  },
  "cells": [
    {
      "cell_type": "markdown",
      "metadata": {
        "id": "BErie7KFsH_Y"
      },
      "source": [
        "Jayson/Mitchell\n",
        "#Automobiles dataset\n",
        "\n",
        "#**Introduction**\n",
        "\n",
        "Cars are an essential form of transportation that have been consistently evolving with different car brands bringing more innovation than the next. This data set can help us understand what makes the best car for a specific userbases (sports car vs gas economic car). Various attributes of a car such as cylinders, body shape, fuel-type, peak rpm, etc vastly influence its performance and for which a large portion of people are most concerned about - gas mileage. Gas prices have increased and more fuel ecomonic choices are becoming much more appealing. We want to find common attributes from vb\n",
        "\n",
        "#**Research Questions**\n",
        "\n",
        "Question: What is the best combination of features for gas mileage?\n",
        "\n",
        "Explanation: We will analyze data on different combinations of car attributes to get the best gas mileage performance.\n",
        "\n",
        "#**Data**\n",
        "We will be retrieving our data from UCI, by downloading they're CSV file fom: ('https://archive.ics.uci.edu/ml/datasets/Automobile')\n",
        "\n",
        "\n",
        "#**Approach**\n",
        "We intend to find these correlations through heatmaps, bar graphs, boxplots, catplots, etc. This and finding relationships between variables and doing regressions will be part of our EDA (exploratory data analysis). We believe that horsepower, number of cylinders, and drive-wheel (4WD, RWD, FWD) will hold the most influence over gas ecomony. Our hope is that this information can be used to either make more efficient vehicles or assist those that are looking for a more specific perfomance out of a car.\n",
        "\n",
        "\n",
        "\n"
      ]
    },
    {
      "cell_type": "code",
      "metadata": {
        "id": "XiXbAfXdfm8t"
      },
      "source": [
        "import seaborn as sns\n",
        "import matplotlib.pyplot as plt\n",
        "import pandas as pd\n",
        "import missingno as msno\n",
        "import numpy as np\n",
        "\n",
        "df = pd.read_csv('https://raw.githubusercontent.com/YsGonzo/Colab/main/imports-85.csv')\n",
        "#df.info()\n",
        "#df.head()\n",
        "#df.describe()\n",
        "#df.isnull().sum() -- This dataset contains Zero null data\n",
        "#df.nunique() -- The quantity of unique values "
      ],
      "execution_count": null,
      "outputs": []
    }
  ]
}
