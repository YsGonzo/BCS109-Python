{
  "nbformat": 4,
  "nbformat_minor": 0,
  "metadata": {
    "colab": {
      "name": "Savings.ipynb",
      "provenance": []
    },
    "kernelspec": {
      "name": "python3",
      "display_name": "Python 3"
    },
    "language_info": {
      "name": "python"
    }
  },
  "cells": [
    {
      "cell_type": "markdown",
      "metadata": {
        "id": "R5P5fnXHzHwW"
      },
      "source": [
        "# Present Value Calculator\n",
        "---\n",
        "*This  is intended to be used when the future value is already known and the present value is being sought.* <br/><br/>\n",
        "\n",
        "* fv - A variable  representing the Future Value of an intended investment.\n",
        "* ir - A variable  representing the Interest Rate.\n",
        "* t - A variable  representing the Time in years.\n",
        "\n",
        "* pv - A variable representing the money needed to be invested at the present time to reach the Future value (fv) at the given Time (t)"
      ]
    },
    {
      "cell_type": "code",
      "metadata": {
        "id": "YdrAl1iIgOgM"
      },
      "source": [
        "fv = float(input(\"What is your future value?\"))\n",
        "ir = float(input(\"what is the interest rate? (in decimal form)\"))\n",
        "t = float(input(\"How many years are you planning to have invested?\"))\n",
        "\n",
        "\n",
        "pv = fv/(1+ir)**t\n",
        "print(f\"The present value you'd need to invest is: {pv}\")"
      ],
      "execution_count": null,
      "outputs": []
    },
    {
      "cell_type": "markdown",
      "metadata": {
        "id": "WwErPmwM_WUs"
      },
      "source": [
        "# Future Value Calculator\n",
        "---\n",
        "*This is intended to be used when the Present Value is already known while the Future Value is unkown.*\n",
        "<br/><br/>\n",
        "* The same variables are used as in the previous calculator."
      ]
    },
    {
      "cell_type": "code",
      "metadata": {
        "id": "0rw-P3Cg_ofe"
      },
      "source": [
        "pv = float(input(\"What is your current investment?\"))\n",
        "ir = float(input(\"What is the interest rate?(In decimal form)\"))\n",
        "t = float(input(\"How long is this money going to be invested for?(In years)\"))\n",
        "\n",
        "fv = pv*(1+ir)**t\n",
        "print(f\"Your current investment will grow to: {fv}\")"
      ],
      "execution_count": null,
      "outputs": []
    }
  ]
}