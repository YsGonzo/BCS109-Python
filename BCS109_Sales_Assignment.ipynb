{
  "nbformat": 4,
  "nbformat_minor": 0,
  "metadata": {
    "colab": {
      "name": "BCS109_Sales_Assignment.ipynb",
      "provenance": [],
      "collapsed_sections": []
    },
    "kernelspec": {
      "name": "python3",
      "display_name": "Python 3"
    },
    "language_info": {
      "name": "python"
    }
  },
  "cells": [
    {
      "cell_type": "markdown",
      "metadata": {
        "id": "9Hfj2ZEcX41U"
      },
      "source": [
        "#Software company sales"
      ]
    },
    {
      "cell_type": "code",
      "metadata": {
        "id": "c6JhwRLqX57k",
        "colab": {
          "base_uri": "https://localhost:8080/"
        },
        "outputId": "5b6720e5-4fd0-439d-9edd-8eb819c0df6b"
      },
      "source": [
        "packages = int(input(f\"How many packages are you buying? \"))\n",
        "\n",
        "if packages >= 10 and packages <= 19:\n",
        "  percent = .10;\n",
        "\n",
        "elif packages >= 20 and packages <= 49:\n",
        "  percent = .20;\n",
        "\n",
        "elif packages >= 50 and v <= 99:\n",
        "  percent = .30;\n",
        "\n",
        "elif packages >= 100:\n",
        "  percent = .40;\n",
        "\n",
        "else:\n",
        "  percent = 0;\n",
        "\n",
        "\n",
        "print(f\"Your discount will be {percent*100}%\")\n",
        "\n",
        "discount = packages*99*percent\n",
        "print(f\"Your total will be ${packages*99 - discount}\");"
      ],
      "execution_count": 43,
      "outputs": [
        {
          "output_type": "stream",
          "name": "stdout",
          "text": [
            "How many packages are you buying? 5\n",
            "Your discount will be 0%\n",
            "Your total will be $495\n"
          ]
        }
      ]
    },
    {
      "cell_type": "markdown",
      "metadata": {
        "id": "qngO-HPlcHKl"
      },
      "source": [
        "#Fast Freight Shipping Company"
      ]
    },
    {
      "cell_type": "code",
      "metadata": {
        "id": "5s0j_1uHcMBD",
        "colab": {
          "base_uri": "https://localhost:8080/"
        },
        "outputId": "c75e862c-d048-4837-e9fc-1e1a8806b274"
      },
      "source": [
        "pounds = float(input(f\"How heavy is your package (lbs)? \"))\n",
        "\n",
        "if pounds <= 2:\n",
        "  shippingRate = 1.50\n",
        "\n",
        "elif pounds > 2 and pounds < 6:\n",
        "  shippingRate = 3.00\n",
        "\n",
        "elif pounds >= 6 and pounds < 10:\n",
        "  shippingRate = 4.00\n",
        "\n",
        "elif pounds >= 10:\n",
        "  shippingRate = 4.75\n",
        "else:\n",
        "  print(\"Invalid weight given.\")\n",
        "\n",
        "print(f\"Your shipping rate (per pound) will be ${shippingRate}\")\n",
        "\n",
        "cost = pounds*shippingRate\n",
        "print(f\"Your shipping cost will be ${cost}\")"
      ],
      "execution_count": 39,
      "outputs": [
        {
          "output_type": "stream",
          "name": "stdout",
          "text": [
            "How heavy is your package (lbs)? 7\n",
            "Your shipping rate (per pound) will be $4.0\n",
            "Your shipping cost will be $28.0\n"
          ]
        }
      ]
    }
  ]
}