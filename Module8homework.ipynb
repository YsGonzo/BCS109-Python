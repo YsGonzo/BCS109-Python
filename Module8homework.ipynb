{
  "nbformat": 4,
  "nbformat_minor": 0,
  "metadata": {
    "colab": {
      "name": "Module8homework.ipynb",
      "provenance": [],
      "collapsed_sections": []
    },
    "kernelspec": {
      "name": "python3",
      "display_name": "Python 3"
    },
    "language_info": {
      "name": "python"
    }
  },
  "cells": [
    {
      "cell_type": "markdown",
      "metadata": {
        "id": "yK0KOS94z7ZV"
      },
      "source": [
        "#function Examples"
      ]
    },
    {
      "cell_type": "code",
      "metadata": {
        "id": "2RjJKoeEz7I2"
      },
      "source": [
        "#Average of nums\n",
        "def func1(x, y):\n",
        "  return (x + y) / 2\n",
        "\n",
        "num1 = int(input(\"Give me a number: \"))\n",
        "num2 = int(input(\"Give me a number: \"))\n",
        "\n",
        "avg = func1(num1, num2)\n",
        "print(avg)"
      ],
      "execution_count": null,
      "outputs": []
    },
    {
      "cell_type": "code",
      "metadata": {
        "id": "TG5QmJXO0p3w"
      },
      "source": [
        "#Sum of range\n",
        "def func2(x, y):\n",
        "  sum = 0\n",
        "  for i in range(x, y + 1):\n",
        "    sum = sum + i\n",
        "  print(sum)\n",
        "\n",
        "num1 = int(input(\"Give me a number: \"))\n",
        "num2 = int(input(\"Give me a number: \"))\n",
        "\n",
        "sum = func2(num1, num2)"
      ],
      "execution_count": null,
      "outputs": []
    },
    {
      "cell_type": "code",
      "metadata": {
        "id": "Hj_kf00AjxAy"
      },
      "source": [
        "#Total Cost Calculator\n",
        "\n",
        "def totalCost(x, y, z):\n",
        "  x = x - (x*y)\n",
        "  x = x + (x*z)\n",
        "  return x\n",
        "\n",
        "cost = float(input(\"What is the item's cost?: \"))\n",
        "discount = float(input(\"What is your discount percentage: \"))\n",
        "if(discount > 1):\n",
        "  discount = discount/100\n",
        "tax = float(input(\"What is the tax rate?: \"))\n",
        "if(tax > 1):\n",
        "  tax = tax/100\n",
        "  \n",
        "totalCost(cost, discount, tax)"
      ],
      "execution_count": null,
      "outputs": []
    },
    {
      "cell_type": "code",
      "metadata": {
        "id": "5dvxFltl1msZ"
      },
      "source": [
        "#Prime number generator\n",
        "def isPrime(num):\n",
        "  for i in range(2,num):\n",
        "    if (num % i == 0):\n",
        "      return False\n",
        "    return True\n",
        "\n",
        "def listPrimes(x,y):\n",
        "  for i in range(x, y+1):\n",
        "    if (isPrime(i)):\n",
        "      print(i, end = \" | \")\n",
        "    \n",
        "listPrimes(2, 1000)"
      ],
      "execution_count": null,
      "outputs": []
    },
    {
      "cell_type": "code",
      "metadata": {
        "id": "5nQ5sd--3woi"
      },
      "source": [
        "#test to see if numbers are coprime\n",
        "def coprime_test(num1, num2):\n",
        "  for i in range(2, num2+1):\n",
        "    if(num1 % i == 0 and num2 % i == 0):\n",
        "      return False\n",
        "  return True\n",
        "\n",
        "def list_coprimes(x):\n",
        "  print(1)\n",
        "  for i in range(2, x):\n",
        "    if(coprime_test(x,i)):\n",
        "      print(i)\n",
        "\n",
        "list_coprimes(12)"
      ],
      "execution_count": null,
      "outputs": []
    },
    {
      "cell_type": "code",
      "metadata": {
        "id": "xRY40xjD6tGb"
      },
      "source": [
        "#list twin primes\n",
        "def isTwinPrimes(x):\n",
        "  if(isPrime(x) and isPrime(x+2)):\n",
        "    return True\n",
        "  return False\n",
        "\n",
        "def listTwinprimes(x,y):\n",
        "  for i in range(x, y+1):\n",
        "    if(isTwinPrime(i)):\n",
        "      print(i, \" \", i + 2)\n",
        "      i += 2\n",
        "\n",
        "listTwinprimes(2, 100)"
      ],
      "execution_count": null,
      "outputs": []
    },
    {
      "cell_type": "code",
      "metadata": {
        "id": "Z49Ul2it7JBw"
      },
      "source": [
        "import random as r\n",
        "\n",
        "#Rock, Paper, Scissors probability\n",
        "def rps():\n",
        "  rock_count = 0\n",
        "  paper_count = 0\n",
        "  scissors_count = 0\n",
        "\n",
        "  for i in range(10000):\n",
        "    num1 = r.randint(1,3)\n",
        "    num2 = r.randint(1,3)\n",
        "\n",
        "    if(num1 == num2):\n",
        "      continue\n",
        "    elif(num1 == 1 and num2 == 2):\n",
        "      paper_count += 1\n",
        "    elif(num1 == 1 and num2 == 3):\n",
        "      rock_count += 1\n",
        "    elif(num1 == 2 and num2 == 3):\n",
        "      scissors_count += 1\n",
        "  print(\"rock \", rock_count/10000)\n",
        "  print(\"scissors \", scissors_count/10000)\n",
        "  print(\"paper \", paper_count/10000)\n",
        "\n",
        "rps()"
      ],
      "execution_count": null,
      "outputs": []
    },
    {
      "cell_type": "code",
      "metadata": {
        "id": "_Qd9A6X_-tfq",
        "colab": {
          "base_uri": "https://localhost:8080/"
        },
        "outputId": "234026cc-4d91-498a-cab0-3382831baed2"
      },
      "source": [
        "\n",
        "#Monty Hall Problem Solution\n",
        "\n",
        "def nonPrizedoor(prizeDoor, numDoors, playerChoice):\n",
        "  i = 1\n",
        "  while(i==prizeDoor or i==playerChoice):\n",
        "    i = (i+1)%(numDoors)\n",
        "  return i\n",
        "\n",
        "def doorSwitch(shownDoor, numDoors, playerChoice):\n",
        "  i = 1\n",
        "  while(i==shownDoor or i ==playerChoice):\n",
        "    i = (i+1)%(numDoors)\n",
        "  return i\n",
        "\n",
        "def montyHall(switch, numtests):\n",
        "  import random as r\n",
        "  switchWins = 0\n",
        "  no_switchWins = 0\n",
        "\n",
        "  doors = [0, 1, 2]\n",
        "  numDoors = len(doors)\n",
        "\n",
        "  for i in range(0, numtests):\n",
        "    prizeDoor = r.randint(0, numDoors-1)\n",
        "    playerChoice = r.randint(0, numDoors-1)\n",
        "    shownDoor = nonPrizedoor(prizeDoor, numDoors, playerChoice)\n",
        "\n",
        "    if switch == True:\n",
        "      playerChoice = doorSwitch(shownDoor, numDoors, playerChoice)\n",
        "\n",
        "    if switch == False and playerChoice == prizeDoor:\n",
        "      no_switchWins = 1 + no_switchWins\n",
        "    elif switch == True and playerChoice == prizeDoor:\n",
        "      switchWins = 1 + switchWins\n",
        "\n",
        "  if switch == False:\n",
        "    print(\"Win percentage when you don't switch: \", no_switchWins / numtests)\n",
        "  elif switch == True:\n",
        "    print(\"Win percentage when you switch: \", switchWins / numtests)\n",
        "\n",
        "montyHall(True, 10000)"
      ],
      "execution_count": 99,
      "outputs": [
        {
          "output_type": "stream",
          "name": "stdout",
          "text": [
            "Win percentage when you switch:  0.6736\n"
          ]
        }
      ]
    }
  ]
}