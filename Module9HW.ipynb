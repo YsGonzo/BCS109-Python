{
  "nbformat": 4,
  "nbformat_minor": 0,
  "metadata": {
    "colab": {
      "name": "Module9HW.ipynb",
      "provenance": [],
      "collapsed_sections": []
    },
    "kernelspec": {
      "name": "python3",
      "display_name": "Python 3"
    },
    "language_info": {
      "name": "python"
    }
  },
  "cells": [
    {
      "cell_type": "code",
      "metadata": {
        "id": "MpJnTEV3ud7_"
      },
      "source": [
        "#Max, Min, Avg, standard deviation, geometric avg\n",
        "\n",
        "def get_max(numbers):\n",
        "  maximum = numbers[0]\n",
        "  for i in numbers:\n",
        "    if maximum < i:\n",
        "      maximum = i\n",
        "  return maximum\n",
        "\n",
        "def get_min(numbers):\n",
        "  minumum = numbers[0]\n",
        "  for i in numbers:\n",
        "    if minumum > i:\n",
        "      minumum = i\n",
        "  return minumum\n",
        "\n",
        "def get_avg(numbers):\n",
        "  average = 0\n",
        "  for i in numbers:\n",
        "    average += i\n",
        "  return average/len(numbers)\n",
        "\n",
        "def get_standardDeviation(numbers):\n",
        "\n",
        "\n",
        "def get_geoavg(numbers):\n",
        "  \n",
        "  \n",
        "\n",
        "a = [8,6,2,9,13,3]\n",
        "#print(get_max(a))\n",
        "\n",
        "b = [8,6,2,9,13,3]\n",
        "#print(get_min(b))\n",
        "\n",
        "c = [2,6,10,3]\n",
        "#print(get_avg(c))"
      ],
      "execution_count": null,
      "outputs": []
    },
    {
      "cell_type": "code",
      "metadata": {
        "id": "1KQwprJbxbvp"
      },
      "source": [
        "#Shape area\n",
        "\n",
        "import math\n",
        "\n",
        "\n",
        "def shape_selector():\n",
        "  shape = input(print(\"What shape would you like the are of: (t)riangle, (c)ircle, (s)quare?\"))\n",
        "  if shape == \"t\":\n",
        "    height = float(input(\"What is the height? \"))\n",
        "    base = float(input(\"What is the base? \"))\n",
        "    triangle(base, height)\n",
        "  elif shape == \"c\":\n",
        "    radius = float(input(\"What is the radius of your circle? \"))\n",
        "    circle(radius)\n",
        "  elif shape == \"s\":\n",
        "    side = float(input(\"What is the side length? \"))\n",
        "    square(side)\n",
        "\n",
        "def square(side):\n",
        "  print(\"The area of your square: \", side*side)\n",
        "\n",
        "def circle(radius):\n",
        "  print(\"The area of your circle: \", math.pi * radius**2)\n",
        "\n",
        "def triangle(base, height):\n",
        "  print(\"The area of your triangle: \", (height*base)/2)\n",
        "\n",
        "shape_selector()"
      ],
      "execution_count": null,
      "outputs": []
    },
    {
      "cell_type": "code",
      "metadata": {
        "id": "DqmCWIFaFPI8"
      },
      "source": [
        "# Doubling list\n",
        "#(Multiplying np.array multiplies the numbers, multiplying a list, lists it n times)\n",
        "import numpy as np\n",
        "\n",
        "def doubling(numbers):\n",
        "  choice = int(input(\"Would you like to double the numbers (0) or list them twice (1)? \"))\n",
        "  if choice is 0:\n",
        "    numbers = np.array(numbers)\n",
        "    numbers = numbers*2\n",
        "  elif choice is 1:\n",
        "    numbers = numbers*2\n",
        "  return numbers\n",
        "\n",
        "\n",
        "array = [1,2,3]\n",
        "print(doubling(array))"
      ],
      "execution_count": null,
      "outputs": []
    },
    {
      "cell_type": "code",
      "metadata": {
        "id": "NEKejUqYHbej",
        "colab": {
          "base_uri": "https://localhost:8080/"
        },
        "outputId": "5d664eb1-ae68-4e59-ae47-84f90e594297"
      },
      "source": [
        "def concatenate(list1, list2):\n",
        "  concated = []\n",
        "  for (i,j) in zip(list1, list2):\n",
        "    concated.append(int(str(i)+ str(j)))\n",
        "  return concated\n",
        "\n",
        "list1 = [1,2,3]\n",
        "list2 = [9,8,7]\n",
        "print(concatenate(list1, list2))"
      ],
      "execution_count": null,
      "outputs": [
        {
          "output_type": "stream",
          "name": "stdout",
          "text": [
            "[19, 28, 37]\n"
          ]
        }
      ]
    },
    {
      "cell_type": "code",
      "metadata": {
        "id": "vS0ameOLI6tz"
      },
      "source": [
        "#Prime tester within a range\n",
        "\n",
        "def primes(endpoint):\n",
        "  print(\"1 \")\n",
        "  for i in range (2, endpoint):\n",
        "    prime = True\n",
        "    for j in range (2, i):\n",
        "      if (i % j == 0):\n",
        "        prime = False\n",
        "    if prime:\n",
        "      print(i)\n",
        "\n",
        "primes(100)"
      ],
      "execution_count": null,
      "outputs": []
    },
    {
      "cell_type": "code",
      "metadata": {
        "id": "_hg9PymWOStw"
      },
      "source": [
        "#Return\n",
        "\n",
        "def calculation(a,b):\n",
        "  return a*b, a/b\n",
        "\n",
        "multi, div = calculation(4,8)\n",
        "print(multi, \" \", div)"
      ],
      "execution_count": null,
      "outputs": []
    },
    {
      "cell_type": "code",
      "metadata": {
        "colab": {
          "base_uri": "https://localhost:8080/"
        },
        "id": "P_h6HeRhP1nZ",
        "outputId": "6ad811e8-0c6c-4c0e-dafa-94396b7bfe01"
      },
      "source": [
        "#below 500 Fibonacci (even)\n",
        "\n",
        "def evenfib(j):\n",
        "  first = 1\n",
        "  second = 1\n",
        "  total = first + second\n",
        "  for i in range(j):\n",
        "    third = first + second\n",
        "    if (third % 2 == 0):\n",
        "      total += third\n",
        "    first = second\n",
        "    second = third\n",
        "  return total\n",
        "\n",
        "\n",
        "evenfib(500)"
      ],
      "execution_count": null,
      "outputs": [
        {
          "output_type": "execute_result",
          "data": {
            "text/plain": [
              "190"
            ]
          },
          "metadata": {},
          "execution_count": 54
        }
      ]
    },
    {
      "cell_type": "code",
      "metadata": {
        "id": "V7LeT04-Rqet"
      },
      "source": [
        "#multiples of 3 and 5\n",
        "def sum(num):\n",
        "  total = 0\n",
        "  for i in range(num):\n",
        "      if i % 3 == 0 or i % 5 == 0:\n",
        "        total += i\n",
        "  return total\n",
        "  \n",
        "sum(1000)"
      ],
      "execution_count": null,
      "outputs": []
    }
  ]
}