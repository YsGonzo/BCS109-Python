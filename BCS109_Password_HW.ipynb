{
  "nbformat": 4,
  "nbformat_minor": 0,
  "metadata": {
    "colab": {
      "name": "BCS109_Password_HW.ipynb",
      "provenance": []
    },
    "kernelspec": {
      "name": "python3",
      "display_name": "Python 3"
    },
    "language_info": {
      "name": "python"
    }
  },
  "cells": [
    {
      "cell_type": "markdown",
      "metadata": {
        "id": "BdUaQ2mJNdKb"
      },
      "source": [
        "1. Ask a user for their name and age. Ensure that they give letters for their name and numbers for their age. Then ensure that they give an age between 1 and 100, inclusive. Give them three chances for this, otherwise output a message: \"Unacceptable.\" If they're name and age are acceptable output the message: \"Acceptable\""
      ]
    },
    {
      "cell_type": "code",
      "metadata": {
        "id": "04OUtzflAYu1"
      },
      "source": [
        "attempts = 0\n",
        "accepted = True\n",
        "\n",
        "\n",
        "name = input(\"What is your name? \")\n",
        "age = input(\"What is your age? \")\n",
        "\n",
        "while not(age.isdigit()) or not(name.isalpha()):\n",
        "    name = input(\"What is your name?\")\n",
        "    age = input(\"What is your age?\")\n",
        "\n",
        "converted_age = int(age)\n",
        "\n",
        "while (converted_age > 100 or converted_age < 1):\n",
        "  attempts = attempts + 1\n",
        "  if (attempts >= 3):\n",
        "    accepted = False\n",
        "    print(\"Unacceptable\")\n",
        "    break\n",
        "  age = input(\"Try a different number: \")\n",
        "\n",
        "print(\"Acceptable\")"
      ],
      "execution_count": null,
      "outputs": []
    },
    {
      "cell_type": "markdown",
      "metadata": {
        "id": "X2XcfhXyNdCb"
      },
      "source": [
        "3. Use a for loop to output every number that has a 3 in it (such as 13, 33, etc) between 1 and 1000. Use a line (such as 3 | 13 | 23 | etc) to split it up\n"
      ]
    },
    {
      "cell_type": "code",
      "metadata": {
        "id": "sYxDjrHRNMIo"
      },
      "source": [
        "for values in range(1, 1001):\n",
        "  stringValues = str(values)\n",
        "  for digits in stringValues:\n",
        "    if(digits == '3'):\n",
        "      print(values, end= ' | ')"
      ],
      "execution_count": null,
      "outputs": []
    },
    {
      "cell_type": "markdown",
      "metadata": {
        "id": "7hMC0axgM660"
      },
      "source": [
        "4. \"Use a while Loop to output all the even numbers between 1 and 100 backwards, e.g. 100, 98, 96"
      ]
    },
    {
      "cell_type": "code",
      "metadata": {
        "id": "RpPAoORbKcH1"
      },
      "source": [
        "counter = 100\n",
        "\n",
        "while counter >= 1:\n",
        "  print(counter, end= ', ')\n",
        "  counter = counter - 2\n"
      ],
      "execution_count": null,
      "outputs": []
    },
    {
      "cell_type": "markdown",
      "metadata": {
        "id": "xvSrXYAdQxNu"
      },
      "source": [
        "5. Use a loop to output all the prime numbers between 100 and 1000 (use a bar in between, simiilar to question 3)."
      ]
    },
    {
      "cell_type": "code",
      "metadata": {
        "id": "-LieeySSQ0X7"
      },
      "source": [
        "for primeNum in range(100, 1000):\n",
        "  if primeNum > 1:\n",
        "    for division in range(2, primeNum):\n",
        "      if(primeNum % division) == 0:\n",
        "        break\n",
        "    else:\n",
        "        print(primeNum, end= ' | ')"
      ],
      "execution_count": null,
      "outputs": []
    }
  ]
}